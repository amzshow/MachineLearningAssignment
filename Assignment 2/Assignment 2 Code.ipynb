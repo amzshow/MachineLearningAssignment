{
 "cells": [
  {
   "cell_type": "code",
   "execution_count": 1,
   "metadata": {},
   "outputs": [],
   "source": [
    "import matplotlib.pyplot as plt\n",
    "import pandas as pd\n",
    "import numpy as np\n",
    "import random\n",
    "import os\n",
    "\n",
    "def sigmoidFunction(x):\n",
    "  return 1 / (1 + np.exp(-x))\n",
    "\n",
    "def hypothesisFunction(w, x, b):\n",
    "    z = np.dot(w, x.T) + b\n",
    "    return sigmoidFunction(z)\n",
    "\n",
    "def lossFunction(w, x, y, b):\n",
    "    hyp = hypothesisFunction(w, x, b)\n",
    "    p1 = np.dot( y, np.log(hyp) )\n",
    "    p2 = np.dot( np.add(1, np.multiply(-1, y)), np.log(np.add(1, np.multiply(-1, hyp))) )\n",
    "    Z = np.sum(np.add(p1, p2))\n",
    "    return np.multiply(-1/x.shape[0] , Z)\n"
   ]
  },
  {
   "cell_type": "code",
   "execution_count": 2,
   "metadata": {},
   "outputs": [],
   "source": [
    "%matplotlib inline"
   ]
  },
  {
   "cell_type": "code",
   "execution_count": 3,
   "metadata": {},
   "outputs": [
    {
     "data": {
      "image/png": "[encoded data removed]",
      "text/plain": [
       "<matplotlib.figure.Figure at 0x908def0>"
      ]
     },
     "metadata": {},
     "output_type": "display_data"
    }
   ],
   "source": [
    "\n",
    "if __name__ == '__main__':\n",
    "    \n",
    "    file = \"data.csv\"\n",
    "    \n",
    "    filename = os.path.join(file)\n",
    "    \n",
    "    attributes = ['UpperLeft','UpperMiddle','UpperRight','MiddleLeft','MiddleMiddle','MiddleRight','LowerLeft','LowerMiddle','LowerRight','Outcome']\n",
    "    df = pd.read_csv(filename, names = attributes)\n",
    "    \n",
    "    random.seed(1)\n",
    "    np.random.seed(1)\n",
    "    \n",
    "    w = np.array([np.random.rand(9)])\n",
    "    x = df[['UpperLeft','UpperMiddle','UpperRight','MiddleLeft','MiddleMiddle','MiddleRight','LowerLeft','LowerMiddle','LowerRight']].as_matrix() #features values\n",
    "    y = df[['Outcome']].as_matrix()\n",
    "    \n",
    "    b = 0\n",
    "    \n",
    "    wBackup = w.copy()\n",
    "\n",
    "    alpha = [0.001, 0.005, 0.00009, 0.000001]\n",
    "    \n",
    "    lossHistory = [[], [], [], []]\n",
    "    \n",
    "    for i in range(len(alpha)):\n",
    "        w = wBackup.copy()\n",
    "        for iteration in range(1000):\n",
    "            m = x.shape[0]\n",
    "            a = hypothesisFunction(w, x, b)\n",
    "            dz = a - y\n",
    "            dw = 0\n",
    "            dw = np.sum(np.dot(x.T, dz))\n",
    "            dw /= m\n",
    "            db = 0\n",
    "            db = np.sum(dz)\n",
    "            db /= m\n",
    "            w =  w - alpha[i] * dw\n",
    "            b =  b - alpha[i] * db\n",
    "            lossHistory[i].append(lossFunction(w, x, y, b))\n",
    "        plt.plot(lossHistory[i])\n",
    "    plt.ylabel('Loss Value')\n",
    "    plt.xlabel('Alpha Index')\n",
    "    plt.legend(('0.001', '0.005', '0.00009', '0.000001'))\n",
    "    plt.show()\n",
    "    \n",
    "    "
   ]
  },
  {
   "cell_type": "code",
   "execution_count": null,
   "metadata": {},
   "outputs": [],
   "source": []
  }
 ],
 "metadata": {
  "kernelspec": {
   "display_name": "Python 3",
   "language": "python",
   "name": "python3"
  },
  "language_info": {
   "codemirror_mode": {
    "name": "ipython",
    "version": 3
   },
   "file_extension": ".py",
   "mimetype": "text/x-python",
   "name": "python",
   "nbconvert_exporter": "python",
   "pygments_lexer": "ipython3",
   "version": "3.6.3"
  }
 },
 "nbformat": 4,
 "nbformat_minor": 2
}
